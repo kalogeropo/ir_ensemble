{
 "cells": [
  {
   "cell_type": "code",
   "execution_count": 15,
   "id": "initial_id",
   "metadata": {
    "collapsed": true,
    "ExecuteTime": {
     "end_time": "2023-10-03T12:01:04.342082600Z",
     "start_time": "2023-10-03T12:01:04.295900200Z"
    }
   },
   "outputs": [
    {
     "name": "stdout",
     "output_type": "stream",
     "text": [
      "    Q_id                                             Q_text  \\\n",
      "0      1  What are the effects of calcium on the physica...   \n",
      "1      2  Can one distinguish between the effects of muc...   \n",
      "2      3  How are salivary glycoproteins from CF patient...   \n",
      "3      4  What is the lipid composition of CF respirator...   \n",
      "4      5                               Is CF mucus abnormal   \n",
      "..   ...                                                ...   \n",
      "95    96  Is there an increased incidence of dental prob...   \n",
      "96    97  Is oxygen transport by red blood cells abnorma...   \n",
      "97    98  What are the effects of CF on the development ...   \n",
      "98    99    Are there abnormalities of taste in CF patients   \n",
      "99   100  What is the incidence of and treatment for hyp...   \n",
      "\n",
      "                                             Relevant  MAP_win7   Map_Set  \n",
      "0   139 151 166 311 370 392 439 440 441 454 461 50...  0.318914  0.137110  \n",
      "1                         169 434 454 498 499 592 875  0.109893  0.009380  \n",
      "2   23 40 139 190 221 246 309 311 325 345 347 356 ...  0.121820  0.114538  \n",
      "3                 503 538 539 540 553 604 669 711 876  0.104334  0.076210  \n",
      "4   23 47 50 60 114 132 135 139 151 169 189 190 19...  0.309002  0.255953  \n",
      "..                                                ...       ...       ...  \n",
      "95        9 40 43 75 454 455 520 526 527 673 883 1087  0.252531  0.018998  \n",
      "96          52 68 135 140 190 392 416 538 539 751 757  0.276495  0.084702  \n",
      "97  145 180 270 272 362 467 595 667 728 782 787 98...  0.127157  0.018734  \n",
      "98                               268 324 449 992 1191  0.601635  0.006607  \n",
      "99    59 183 370 579 803 833 1000 1017 1033 1097 1232  0.289494  0.013589  \n",
      "\n",
      "[100 rows x 5 columns]\n"
     ]
    }
   ],
   "source": [
    "from pandas import read_excel, DataFrame\n",
    "\n",
    "data_dest = \"data/Q_dataset.xlsx\"\n",
    "\n",
    "sheets  =  read_excel(data_dest)\n",
    "\n",
    "print(sheets)"
   ]
  },
  {
   "cell_type": "code",
   "execution_count": 22,
   "outputs": [
    {
     "data": {
      "text/plain": "    Q_id                                             Q_text  \\\n0      1  What are the effects of calcium on the physica...   \n1      2  Can one distinguish between the effects of muc...   \n2      3  How are salivary glycoproteins from CF patient...   \n3      4  What is the lipid composition of CF respirator...   \n4      5                               Is CF mucus abnormal   \n..   ...                                                ...   \n95    96  Is there an increased incidence of dental prob...   \n96    97  Is oxygen transport by red blood cells abnorma...   \n97    98  What are the effects of CF on the development ...   \n98    99    Are there abnormalities of taste in CF patients   \n99   100  What is the incidence of and treatment for hyp...   \n\n                                             Relevant  MAP_win7   Map_Set  \\\n0   139 151 166 311 370 392 439 440 441 454 461 50...  0.318914  0.137110   \n1                         169 434 454 498 499 592 875  0.109893  0.009380   \n2   23 40 139 190 221 246 309 311 325 345 347 356 ...  0.121820  0.114538   \n3                 503 538 539 540 553 604 669 711 876  0.104334  0.076210   \n4   23 47 50 60 114 132 135 139 151 169 189 190 19...  0.309002  0.255953   \n..                                                ...       ...       ...   \n95        9 40 43 75 454 455 520 526 527 673 883 1087  0.252531  0.018998   \n96          52 68 135 140 190 392 416 538 539 751 757  0.276495  0.084702   \n97  145 180 270 272 362 467 595 667 728 782 787 98...  0.127157  0.018734   \n98                               268 324 449 992 1191  0.601635  0.006607   \n99    59 183 370 579 803 833 1000 1017 1033 1097 1232  0.289494  0.013589   \n\n    Difference  \n0            1  \n1            1  \n2            1  \n3            1  \n4            1  \n..         ...  \n95           1  \n96           1  \n97           1  \n98           1  \n99           1  \n\n[100 rows x 6 columns]",
      "text/html": "<div>\n<style scoped>\n    .dataframe tbody tr th:only-of-type {\n        vertical-align: middle;\n    }\n\n    .dataframe tbody tr th {\n        vertical-align: top;\n    }\n\n    .dataframe thead th {\n        text-align: right;\n    }\n</style>\n<table border=\"1\" class=\"dataframe\">\n  <thead>\n    <tr style=\"text-align: right;\">\n      <th></th>\n      <th>Q_id</th>\n      <th>Q_text</th>\n      <th>Relevant</th>\n      <th>MAP_win7</th>\n      <th>Map_Set</th>\n      <th>Difference</th>\n    </tr>\n  </thead>\n  <tbody>\n    <tr>\n      <th>0</th>\n      <td>1</td>\n      <td>What are the effects of calcium on the physica...</td>\n      <td>139 151 166 311 370 392 439 440 441 454 461 50...</td>\n      <td>0.318914</td>\n      <td>0.137110</td>\n      <td>1</td>\n    </tr>\n    <tr>\n      <th>1</th>\n      <td>2</td>\n      <td>Can one distinguish between the effects of muc...</td>\n      <td>169 434 454 498 499 592 875</td>\n      <td>0.109893</td>\n      <td>0.009380</td>\n      <td>1</td>\n    </tr>\n    <tr>\n      <th>2</th>\n      <td>3</td>\n      <td>How are salivary glycoproteins from CF patient...</td>\n      <td>23 40 139 190 221 246 309 311 325 345 347 356 ...</td>\n      <td>0.121820</td>\n      <td>0.114538</td>\n      <td>1</td>\n    </tr>\n    <tr>\n      <th>3</th>\n      <td>4</td>\n      <td>What is the lipid composition of CF respirator...</td>\n      <td>503 538 539 540 553 604 669 711 876</td>\n      <td>0.104334</td>\n      <td>0.076210</td>\n      <td>1</td>\n    </tr>\n    <tr>\n      <th>4</th>\n      <td>5</td>\n      <td>Is CF mucus abnormal</td>\n      <td>23 47 50 60 114 132 135 139 151 169 189 190 19...</td>\n      <td>0.309002</td>\n      <td>0.255953</td>\n      <td>1</td>\n    </tr>\n    <tr>\n      <th>...</th>\n      <td>...</td>\n      <td>...</td>\n      <td>...</td>\n      <td>...</td>\n      <td>...</td>\n      <td>...</td>\n    </tr>\n    <tr>\n      <th>95</th>\n      <td>96</td>\n      <td>Is there an increased incidence of dental prob...</td>\n      <td>9 40 43 75 454 455 520 526 527 673 883 1087</td>\n      <td>0.252531</td>\n      <td>0.018998</td>\n      <td>1</td>\n    </tr>\n    <tr>\n      <th>96</th>\n      <td>97</td>\n      <td>Is oxygen transport by red blood cells abnorma...</td>\n      <td>52 68 135 140 190 392 416 538 539 751 757</td>\n      <td>0.276495</td>\n      <td>0.084702</td>\n      <td>1</td>\n    </tr>\n    <tr>\n      <th>97</th>\n      <td>98</td>\n      <td>What are the effects of CF on the development ...</td>\n      <td>145 180 270 272 362 467 595 667 728 782 787 98...</td>\n      <td>0.127157</td>\n      <td>0.018734</td>\n      <td>1</td>\n    </tr>\n    <tr>\n      <th>98</th>\n      <td>99</td>\n      <td>Are there abnormalities of taste in CF patients</td>\n      <td>268 324 449 992 1191</td>\n      <td>0.601635</td>\n      <td>0.006607</td>\n      <td>1</td>\n    </tr>\n    <tr>\n      <th>99</th>\n      <td>100</td>\n      <td>What is the incidence of and treatment for hyp...</td>\n      <td>59 183 370 579 803 833 1000 1017 1033 1097 1232</td>\n      <td>0.289494</td>\n      <td>0.013589</td>\n      <td>1</td>\n    </tr>\n  </tbody>\n</table>\n<p>100 rows × 6 columns</p>\n</div>"
     },
     "execution_count": 22,
     "metadata": {},
     "output_type": "execute_result"
    }
   ],
   "source": [
    "sheets['Difference'] = sheets['MAP_win7'].sub(sheets['Map_Set'])\n",
    "sheets['Difference'].where(sheets['Difference'] <= 0, 0, inplace=True)\n",
    "sheets['Difference'].where(sheets['Difference'] > 0, 1, inplace=True)\n",
    "sheets = sheets.astype({'Difference': 'int8'})\n",
    "\n",
    "sheets\n"
   ],
   "metadata": {
    "collapsed": false,
    "ExecuteTime": {
     "end_time": "2023-10-03T13:18:19.663122100Z",
     "start_time": "2023-10-03T13:18:19.638513400Z"
    }
   },
   "id": "8357de5c350f461"
  },
  {
   "cell_type": "code",
   "execution_count": 16,
   "outputs": [],
   "source": [],
   "metadata": {
    "collapsed": false,
    "ExecuteTime": {
     "end_time": "2023-10-03T12:01:04.391428900Z",
     "start_time": "2023-10-03T12:01:04.370307Z"
    }
   },
   "id": "79e6bf60e1dae567"
  }
 ],
 "metadata": {
  "kernelspec": {
   "display_name": "Python 3",
   "language": "python",
   "name": "python3"
  },
  "language_info": {
   "codemirror_mode": {
    "name": "ipython",
    "version": 2
   },
   "file_extension": ".py",
   "mimetype": "text/x-python",
   "name": "python",
   "nbconvert_exporter": "python",
   "pygments_lexer": "ipython2",
   "version": "2.7.6"
  }
 },
 "nbformat": 4,
 "nbformat_minor": 5
}
